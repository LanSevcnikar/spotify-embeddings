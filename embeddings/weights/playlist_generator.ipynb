{
 "cells": [
  {
   "cell_type": "code",
   "execution_count": 1,
   "metadata": {},
   "outputs": [],
   "source": [
    "import numpy as np\n",
    "import json"
   ]
  },
  {
   "cell_type": "code",
   "execution_count": 2,
   "metadata": {},
   "outputs": [],
   "source": [
    "track_uri_to_track_name = json.load(open('track_uri_to_track_name.json'))\n",
    "track_uri_to_artist_name = json.load(open('track_uri_to_artist_name.json'))\n",
    "track_uri_to_album_name = json.load(open('track_uri_to_album_name.json'))\n",
    "\n",
    "vocab = np.load('vocab.npy')\n",
    "weights = np.load('weights.npy')"
   ]
  },
  {
   "cell_type": "code",
   "execution_count": 19,
   "metadata": {},
   "outputs": [],
   "source": [
    "def create_playlist(seed):\n",
    "    # seed is a list of track uris\n",
    "    # first find the index of the seed tracks\n",
    "    seed_indices = []\n",
    "    for uri in seed:\n",
    "        seed_indices.append(np.where(vocab == uri)[0][0])\n",
    "\n",
    "    # get the weights of the seed tracks and add them up\n",
    "    seed_weights = weights[seed_indices]\n",
    "    seed_weights = np.sum(seed_weights, axis=0)\n",
    "    # softmax the weights\n",
    "    seed_weights = np.exp(seed_weights) / np.sum(np.exp(seed_weights))\n",
    "    # get the top 10 tracks\n",
    "    top_tracks = weights.dot(seed_weights)\n",
    "    top_tracks = np.argsort(top_tracks)[::-1][:10]\n",
    "    # get the track names\n",
    "\n",
    "    playlist = [uri for uri in seed]\n",
    "    playlist.extend([vocab[i] for i in top_tracks if vocab[i] not in seed])\n",
    "    return playlist"
   ]
  },
  {
   "cell_type": "code",
   "execution_count": 21,
   "metadata": {},
   "outputs": [],
   "source": [
    "def print_playlist(generated_playlist):\n",
    "    print('Generated playlist:')\n",
    "    for track_uri in generated_playlist:\n",
    "        track_name = track_uri_to_track_name[track_uri]\n",
    "        artist_name = track_uri_to_artist_name[track_uri]\n",
    "        album_name = track_uri_to_album_name[track_uri]\n",
    "        print(f\"{track_name} by {artist_name} from the album {album_name}\")"
   ]
  },
  {
   "cell_type": "code",
   "execution_count": 22,
   "metadata": {},
   "outputs": [
    {
     "name": "stdout",
     "output_type": "stream",
     "text": [
      "Generated playlist:\n",
      "Sympathy For The Devil by The Rolling Stones from the album Beggars Banquet\n",
      "Stairway To Heaven by Led Zeppelin from the album Led Zeppelin IV\n",
      "Sultans Of Swing by Dire Straits from the album Dire Straits\n",
      "Southern Man - Remastered by Neil Young from the album After The Gold Rush\n",
      "Kashmir by Led Zeppelin from the album Physical Graffiti\n",
      "Who Are You by The Who from the album Who Are You\n",
      "Bron-Y-Aur Stomp by Led Zeppelin from the album Led Zeppelin III\n",
      "Stay With Me by Faces from the album A Nod Is As Good As A Wink To A Blind Horse\n",
      "Stairway to Heaven by Swan Montgomery from the album Swan Montgomery Covers the Greatest Hits of Led Zeppelin\n",
      "Time by Pink Floyd from the album The Dark Side of the Moon\n"
     ]
    }
   ],
   "source": [
    "playlist_A = [\n",
    "    'spotify:track:4sFbojhVXQv7dBC9PVCcRn',\n",
    "    'spotify:track:5CQ30WqJwcep0pYcV4AMNc',\n",
    "    'spotify:track:3LTMnFa0hhwisyq6ILahyj',\n",
    "]\n",
    "\n",
    "extended = create_playlist(playlist_A)\n",
    "print_playlist(extended)"
   ]
  },
  {
   "cell_type": "code",
   "execution_count": 23,
   "metadata": {},
   "outputs": [
    {
     "name": "stdout",
     "output_type": "stream",
     "text": [
      "Generated playlist:\n",
      "Diet Mountain Dew by Lana Del Rey from the album Born To Die - The Paradise Edition\n",
      "Francis Forever by Mitski from the album Bury Me At Makeout Creek\n",
      "Lovers Rock by TV Girl from the album French Exit\n",
      "The Wild Life by Vacationer from the album Relief\n",
      "Beyond Love by Beach House from the album Depression Cherry\n",
      "My Girls by Animal Collective from the album Merriweather Post Pavilion\n",
      "Bel Air by Lana Del Rey from the album Born To Die - The Paradise Edition\n",
      "Passing Out Pieces by Mac Demarco from the album Salad Days\n",
      "Bloodflows by SOHN from the album Bloodflows\n",
      "She Said by Sundara Karma from the album Youth is Only Ever Fun in Retrospect\n",
      "Sleepyhead - Stripped Down Version by Passion Pit from the album Manners\n",
      "How Long Must I Wait by Dr. Dog from the album Be The Void\n"
     ]
    }
   ],
   "source": [
    "playlist_B = [\n",
    "    'spotify:track:2vtmY2mSccRzKGjtcHSzI3',\n",
    "    'spotify:track:6gpSU2C1VJq0xaVIGtQPVi',\n",
    "    'spotify:track:1H7zdcRD0gLGQY0w5ejGgX',\n",
    "]\n",
    "extended = create_playlist(playlist_B)\n",
    "print_playlist(extended)"
   ]
  },
  {
   "cell_type": "code",
   "execution_count": 24,
   "metadata": {},
   "outputs": [
    {
     "name": "stdout",
     "output_type": "stream",
     "text": [
      "Generated playlist:\n",
      "The Real Slim Shady by Eminem from the album The Marshall Mathers LP\n",
      "Hypnotize - 2014 Remastered Version by The Notorious B.I.G. from the album Life After Death (Remastered Edition)\n",
      "Timber by Pitbull from the album Global Warming: Meltdown (Deluxe Version)\n",
      "Hits from the Bong by Cypress Hill from the album Black Sunday\n",
      "Ghetto Supastar (That is What You Are) by Pras from the album Ghetto Supastar\n",
      "Boyz by M.I.A. from the album Kala\n",
      "Freek-A-Leek by Petey Pablo from the album Still Writing In My Diary: 2nd Entry\n",
      "Paul Revere by Beastie Boys from the album Licensed To Ill\n",
      "Splash Waterfalls by Ludacris from the album Chicken - N - Beer\n",
      "The Night Out - Madeon Remix by Martin Solveig from the album Smash\n",
      "Real Nigga Roll Call by Lil Jon from the album Crunk Juice\n",
      "Throw Some D's by Rich Boy from the album Rich Boy\n"
     ]
    }
   ],
   "source": [
    "playlist_C = [\n",
    "    'spotify:track:3yfqSUWxFvZELEM4PmlwIR',\n",
    "    'spotify:track:7KwZNVEaqikRSBSpyhXK2j',\n",
    "    'spotify:track:3cHyrEgdyYRjgJKSOiOtcS',\n",
    "]\n",
    "extended = create_playlist(playlist_C)\n",
    "print_playlist(extended)"
   ]
  }
 ],
 "metadata": {
  "kernelspec": {
   "display_name": "Python 3",
   "language": "python",
   "name": "python3"
  },
  "language_info": {
   "codemirror_mode": {
    "name": "ipython",
    "version": 3
   },
   "file_extension": ".py",
   "mimetype": "text/x-python",
   "name": "python",
   "nbconvert_exporter": "python",
   "pygments_lexer": "ipython3",
   "version": "3.11.4"
  }
 },
 "nbformat": 4,
 "nbformat_minor": 2
}
